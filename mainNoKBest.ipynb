{
 "cells": [
  {
   "cell_type": "markdown",
   "metadata": {},
   "source": [
    "# PathPilot ML training\n",
    "##### Author: [Joseph Selva Raj]"
   ]
  },
  {
   "cell_type": "code",
   "execution_count": 6,
   "metadata": {},
   "outputs": [],
   "source": [
    "import numpy as np\n",
    "import pandas as pd\n",
    "from sklearn.feature_selection import SelectKBest\n",
    "from sklearn.feature_selection import f_classif\n",
    "from sklearn.model_selection import train_test_split\n",
    "from sklearn.preprocessing import LabelEncoder\n",
    "from sklearn.ensemble import RandomForestClassifier\n",
    "from sklearn.metrics import accuracy_score, classification_report\n",
    "from micromlgen import port"
   ]
  },
  {
   "cell_type": "markdown",
   "metadata": {},
   "source": [
    "### Loading the data\n",
    "\n",
    "Load the LIDAR measurement data from txt file"
   ]
  },
  {
   "cell_type": "code",
   "execution_count": 7,
   "metadata": {},
   "outputs": [
    {
     "name": "stdout",
     "output_type": "stream",
     "text": [
      "     0       1       2       3       4       5       6      7       8    \\\n",
      "0  466.0  468.50  471.00  473.75  480.25  483.50  487.25  492.0  496.50   \n",
      "1  450.0  451.75  456.50  460.25  463.50  467.75  477.50  481.5  486.75   \n",
      "2  383.0  385.50  391.50  452.25  398.25  402.00  462.25  466.5  447.00   \n",
      "3  372.5  374.50  380.75  452.25  386.25  389.50  397.25  466.5  406.25   \n",
      "4  342.5  344.50  348.50  452.25  353.75  356.25  359.00  362.0  365.25   \n",
      "\n",
      "      9    ...     231     232    233     234     235     236     237     238  \\\n",
      "0  501.75  ...  457.00  457.00  457.0  457.00  457.75  458.50  459.25  462.25   \n",
      "1  492.00  ...  381.50  387.25  390.5  394.00  397.75  398.75  398.75  442.75   \n",
      "2  449.50  ...  366.75  367.25  368.0  370.25  397.75  372.75  374.25  378.00   \n",
      "3  447.25  ...  360.00  360.00  368.0  361.25  362.75  365.00  374.25  368.50   \n",
      "4  369.25  ...  360.00  334.00  334.0  334.75  335.25  335.75  337.00  339.50   \n",
      "\n",
      "      239  240  \n",
      "0  463.50    F  \n",
      "1  444.75    l  \n",
      "2  444.75    F  \n",
      "3  370.50    F  \n",
      "4  341.00    L  \n",
      "\n",
      "[5 rows x 241 columns]\n"
     ]
    }
   ],
   "source": [
    "data = pd.read_csv('C:\\\\Users\\\\josep\\\\Documents\\\\Github Repo\\\\PathPilot\\\\PathPilot\\\\all.TXT', header=None)\n",
    "print(data.head())"
   ]
  },
  {
   "cell_type": "markdown",
   "metadata": {},
   "source": [
    "### Data cleaning\n",
    "\n",
    "Rename the last column as \"label\" and clean the data by eliminating all data strings that are not annotated with \"Forward\" command labels.\n",
    "\n",
    "The processed data should only contain the LIDAR measurements and the corresponding command labels:\n",
    "- F - forward\n",
    "- R - forward right\n",
    "- L - forward left"
   ]
  },
  {
   "cell_type": "code",
   "execution_count": 8,
   "metadata": {},
   "outputs": [
    {
     "name": "stdout",
     "output_type": "stream",
     "text": [
      "Label counts before cleaning the data: \n",
      " Label\n",
      "F    26256\n",
      "L    12544\n",
      "R     7411\n",
      "l      410\n",
      "r      242\n",
      "H       19\n",
      "s        2\n",
      "Name: count, dtype: int64\n",
      "Label counts after cleaning the data: \n",
      " Label\n",
      "F    26256\n",
      "L    12544\n",
      "R     7411\n",
      "Name: count, dtype: int64\n"
     ]
    }
   ],
   "source": [
    "data.rename(columns={data.columns[-1]: 'Label'}, inplace=True)\n",
    "print(f\"Label counts before cleaning the data: \\n {data['Label'].value_counts()}\")\n",
    "data = data[(data['Label'] != 'd') & (data['Label'] != 'b') & (data['Label'] != 's') & (data['Label'] != 'l')& (data['Label'] != 'H')& (data['Label'] != 'D')& (data['Label'] != 'r')& (data['Label'] != 'm')& (data['Label'] != 'n')]\n",
    "data.reset_index(drop=True, inplace=True)\n",
    "print(f\"Label counts after cleaning the data: \\n {data['Label'].value_counts()}\")"
   ]
  },
  {
   "cell_type": "markdown",
   "metadata": {},
   "source": [
    "### Spilt data into train and test sets\n",
    "Separate X and Y as the input and output data and divide them into train and test sets with train_test_split. \n",
    "Label encoder is used to convert the labels from character to number format to interface with the classifier."
   ]
  },
  {
   "cell_type": "code",
   "execution_count": 9,
   "metadata": {},
   "outputs": [
    {
     "name": "stdout",
     "output_type": "stream",
     "text": [
      "Label encoding mapping for motor control in Arduino code: {'F': 0, 'L': 1, 'R': 2}\n"
     ]
    }
   ],
   "source": [
    "X = data.iloc[:, :-1]\n",
    "y = data.iloc[:, -1]\n",
    "\n",
    "label_encoder = LabelEncoder()\n",
    "y = label_encoder.fit_transform(y)\n",
    "label_mapping = dict(zip(label_encoder.classes_, label_encoder.transform(label_encoder.classes_)))\n",
    "print(f\"Label encoding mapping for motor control in Arduino code: {label_mapping}\")\n",
    "\n",
    "X_train, X_test, y_train, y_test = train_test_split(X, y, test_size=0.2, random_state=42)"
   ]
  },
  {
   "cell_type": "markdown",
   "metadata": {},
   "source": [
    "### Training the model\n",
    "Training the model is a straightforward process, thanks to all the libraries available in Python. The outcome of the training process depends on the dataset and the preceding steps. Post-training, accuracy will be computed using the test set, and a higher accuracy is desirable."
   ]
  },
  {
   "cell_type": "code",
   "execution_count": 10,
   "metadata": {},
   "outputs": [
    {
     "name": "stdout",
     "output_type": "stream",
     "text": [
      "Accuracy: 0.6668830466298821\n",
      "Classification Report:\n",
      "               precision    recall  f1-score   support\n",
      "\n",
      "           F       0.65      0.90      0.76      5231\n",
      "           L       0.72      0.43      0.54      2534\n",
      "           R       0.73      0.24      0.36      1478\n",
      "\n",
      "    accuracy                           0.67      9243\n",
      "   macro avg       0.70      0.52      0.55      9243\n",
      "weighted avg       0.68      0.67      0.63      9243\n",
      "\n"
     ]
    }
   ],
   "source": [
    "clf = RandomForestClassifier(max_depth=3, random_state=42)\n",
    "clf.fit(X_train, y_train)\n",
    "\n",
    "y_pred = clf.predict(X_test)\n",
    "\n",
    "accuracy = accuracy_score(y_test, y_pred)\n",
    "print(f'Accuracy: {accuracy}')\n",
    "\n",
    "class_names = label_encoder.classes_\n",
    "report = classification_report(y_test, y_pred, target_names=class_names, zero_division=0)\n",
    "print('Classification Report:\\n', report)"
   ]
  },
  {
   "cell_type": "markdown",
   "metadata": {},
   "source": [
    "### Exporting the Classifier\n",
    "\n",
    "Export the trained classifier to a C code header file via the micromlgen library, so that it can be used in the Arduino code for real-time classification.\n"
   ]
  },
  {
   "cell_type": "code",
   "execution_count": null,
   "metadata": {},
   "outputs": [],
   "source": []
  }
 ],
 "metadata": {
  "kernelspec": {
   "display_name": "Python 3",
   "language": "python",
   "name": "python3"
  },
  "language_info": {
   "codemirror_mode": {
    "name": "ipython",
    "version": 3
   },
   "file_extension": ".py",
   "mimetype": "text/x-python",
   "name": "python",
   "nbconvert_exporter": "python",
   "pygments_lexer": "ipython3",
   "version": "3.11.9"
  }
 },
 "nbformat": 4,
 "nbformat_minor": 2
}
