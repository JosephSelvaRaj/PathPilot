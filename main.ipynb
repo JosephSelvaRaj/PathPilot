{
 "cells": [
  {
   "cell_type": "markdown",
   "metadata": {},
   "source": [
    "# PathPilot ML training\n",
    "##### Author: [Joseph Selva Raj]"
   ]
  },
  {
   "cell_type": "code",
   "execution_count": 17,
   "metadata": {},
   "outputs": [],
   "source": [
    "import numpy as np\n",
    "import pandas as pd\n",
    "from sklearn.feature_selection import SelectKBest\n",
    "from sklearn.feature_selection import f_classif\n",
    "from sklearn.model_selection import train_test_split\n",
    "from sklearn.preprocessing import LabelEncoder\n",
    "from sklearn.ensemble import RandomForestClassifier\n",
    "from sklearn.metrics import accuracy_score, classification_report\n",
    "from micromlgen import port"
   ]
  },
  {
   "cell_type": "markdown",
   "metadata": {},
   "source": [
    "### Loading the data\n",
    "\n",
    "Load the LIDAR measurment data from txt file"
   ]
  },
  {
   "cell_type": "code",
   "execution_count": 18,
   "metadata": {},
   "outputs": [
    {
     "name": "stdout",
     "output_type": "stream",
     "text": [
      "   0    1    2    3    4    5    6    7    8    9    ...  231  232  233  234  \\\n",
      "0    0    0    0    0    0    0    0    0    0    0  ...    0    0    0    0   \n",
      "1    0    0    0    0    0    0    0    0    0    0  ...    0    0    0    0   \n",
      "2    0    0    0    0    0    0    0    0    0    0  ...    0    0    0    0   \n",
      "3    0    0    0    0    0    0    0    0    0    0  ...    0    0    0    0   \n",
      "4    0    0    0    0    0    0    0    0    0    0  ...    0    0    0    0   \n",
      "\n",
      "   235  236  237  238  239  240  \n",
      "0    0    0    0    0    0    D  \n",
      "1    0    0    0    0    0    D  \n",
      "2    0    0    0    0    0    D  \n",
      "3    0    0    0    0    0    D  \n",
      "4    0    0    0    0    0    D  \n",
      "\n",
      "[5 rows x 241 columns]\n"
     ]
    }
   ],
   "source": [
    "data = pd.read_csv('C:\\\\Users\\\\josep\\\\Documents\\\\Github Repo\\\\PathPilot\\\\PathPilot\\\\DATARIGHT1.TXT', header=None)\n",
    "print(data.head())"
   ]
  },
  {
   "cell_type": "markdown",
   "metadata": {},
   "source": [
    "### Data cleaning\n",
    "\n",
    "Rename the last column as \"label\" and clean the data by eliminating all data strings that are not annotated with \"Forward\" command labels.\n",
    "\n",
    "The processed data should only contain the LIDAR measurements and the corresponding command labels:\n",
    "- F - forward\n",
    "- R - forward right\n",
    "- L - forward left"
   ]
  },
  {
   "cell_type": "code",
   "execution_count": 19,
   "metadata": {},
   "outputs": [
    {
     "name": "stdout",
     "output_type": "stream",
     "text": [
      "Label counts before cleaning the data: \n",
      " Label\n",
      "F    2401\n",
      "R    2023\n",
      "L     567\n",
      "s     313\n",
      "D     107\n",
      "b      10\n",
      "l       1\n",
      "Name: count, dtype: int64\n",
      "Label counts after cleaning the data: \n",
      " Label\n",
      "F    2401\n",
      "R    2023\n",
      "L     567\n",
      "Name: count, dtype: int64\n"
     ]
    }
   ],
   "source": [
    "data.rename(columns={data.columns[-1]: 'Label'}, inplace=True)\n",
    "print(f\"Label counts before cleaning the data: \\n {data['Label'].value_counts()}\")\n",
    "data = data[(data['Label'] != 'd') & (data['Label'] != 'b') & (data['Label'] != 's') & (data['Label'] != 'l')& (data['Label'] != 'H')& (data['Label'] != 'D')& (data['Label'] != 'r')& (data['Label'] != 'm')& (data['Label'] != 'n')]\n",
    "data.reset_index(drop=True, inplace=True)\n",
    "print(f\"Label counts after cleaning the data: \\n {data['Label'].value_counts()}\")"
   ]
  },
  {
   "cell_type": "markdown",
   "metadata": {},
   "source": [
    "### Spilt data into train and test sets\n",
    "Separate X and Y as the input and output data and divide them into train and test sets with train_test_split. \n",
    "Label encoder is used to convert the labels from character to number format to interface with the classifier."
   ]
  },
  {
   "cell_type": "code",
   "execution_count": 20,
   "metadata": {},
   "outputs": [
    {
     "name": "stdout",
     "output_type": "stream",
     "text": [
      "Label encoding mapping for motor control in Arduino code: {'F': 0, 'L': 1, 'R': 2}\n"
     ]
    }
   ],
   "source": [
    "X = data.iloc[:, :-1]\n",
    "y = data.iloc[:, -1]\n",
    "\n",
    "label_encoder = LabelEncoder()\n",
    "y = label_encoder.fit_transform(y)\n",
    "label_mapping = dict(zip(label_encoder.classes_, label_encoder.transform(label_encoder.classes_)))\n",
    "print(f\"Label encoding mapping for motor control in Arduino code: {label_mapping}\")\n",
    "\n",
    "X_train, X_test, y_train, y_test = train_test_split(X, y, test_size=0.2, random_state=42)"
   ]
  },
  {
   "cell_type": "markdown",
   "metadata": {},
   "source": [
    "### Data selection\n",
    "\n",
    "Data selection is performed after the splitting to train and test sets, otherwise it may be exposed to data leakage problem. Data selection is performed with SelectKBest from sklearn package. The number of selected features is defined as K. The selected features are the Lidar data measurement angles that are most important for the classification, and have to be used in the Arduino code for the real-time classification."
   ]
  },
  {
   "cell_type": "code",
   "execution_count": 21,
   "metadata": {},
   "outputs": [
    {
     "name": "stdout",
     "output_type": "stream",
     "text": [
      "Format of selected features (Angles) to be copied into Arduino code:\n",
      " Index([ 10,  14,  30,  32,  34,  35,  36,  38,  60,  62,  64,  66,  68,  69,\n",
      "        70,  71,  72,  73,  74,  75,  76,  77,  78,  79, 116, 120, 122, 128,\n",
      "       134, 144, 146, 148, 149, 150, 151, 152, 153, 154, 155, 156, 157, 158,\n",
      "       159, 160, 161, 162, 163, 164, 165, 166, 167, 168, 169, 170, 171, 172,\n",
      "       173, 174, 176, 178, 180, 182, 184, 186, 198, 200, 201, 202, 203, 204,\n",
      "       205, 206, 207, 208, 209, 210, 211, 212, 213, 214],\n",
      "      dtype='object')\n"
     ]
    }
   ],
   "source": [
    "k = 80\n",
    "k_best = SelectKBest(score_func=f_classif, k=k)\n",
    "k_best.fit(X_train, y_train)\n",
    "\n",
    "selected_feature_indices = k_best.get_support(indices=True)\n",
    "print(\"Format of selected features (Angles) to be copied into Arduino code:\\n\", X.columns[selected_feature_indices])"
   ]
  },
  {
   "cell_type": "markdown",
   "metadata": {},
   "source": [
    "### Training the model\n",
    "Training the model is a straightforward process, thanks to all the libraries available in Python. The outcome of the training process depends on the dataset and the preceding steps. Post-training, accuracy will be computed using the test set, and a higher accuracy is desirable."
   ]
  },
  {
   "cell_type": "code",
   "execution_count": 22,
   "metadata": {},
   "outputs": [
    {
     "name": "stdout",
     "output_type": "stream",
     "text": [
      "Accuracy: 0.7787787787787788\n",
      "Classification Report:\n",
      "               precision    recall  f1-score   support\n",
      "\n",
      "           F       0.78      0.77      0.78       496\n",
      "           L       0.87      0.52      0.65       100\n",
      "           R       0.77      0.85      0.80       403\n",
      "\n",
      "    accuracy                           0.78       999\n",
      "   macro avg       0.80      0.71      0.74       999\n",
      "weighted avg       0.78      0.78      0.78       999\n",
      "\n"
     ]
    }
   ],
   "source": [
    "clf = RandomForestClassifier(max_depth=3, random_state=42)\n",
    "clf.fit(X_train.iloc[:, selected_feature_indices], y_train)\n",
    "\n",
    "y_pred = clf.predict(X_test.iloc[:, selected_feature_indices])\n",
    "\n",
    "accuracy = accuracy_score(y_test, y_pred)\n",
    "print(f'Accuracy: {accuracy}')\n",
    "\n",
    "class_names = label_encoder.classes_\n",
    "report = classification_report(y_test, y_pred, target_names=class_names, zero_division=0)\n",
    "print('Classification Report:\\n', report)"
   ]
  },
  {
   "cell_type": "markdown",
   "metadata": {},
   "source": [
    "### Exporting the Classifier\n",
    "\n",
    "Export the trained classifier to a C code header file via the micromlgen library, so that it can be used in the Arduino code for real-time classification.\n"
   ]
  },
  {
   "cell_type": "code",
   "execution_count": 23,
   "metadata": {},
   "outputs": [
    {
     "name": "stdout",
     "output_type": "stream",
     "text": [
      "Import selected features to Arduino code:\n",
      " Index([ 10,  14,  30,  32,  34,  35,  36,  38,  60,  62,  64,  66,  68,  69,\n",
      "        70,  71,  72,  73,  74,  75,  76,  77,  78,  79, 116, 120, 122, 128,\n",
      "       134, 144, 146, 148, 149, 150, 151, 152, 153, 154, 155, 156, 157, 158,\n",
      "       159, 160, 161, 162, 163, 164, 165, 166, 167, 168, 169, 170, 171, 172,\n",
      "       173, 174, 176, 178, 180, 182, 184, 186, 198, 200, 201, 202, 203, 204,\n",
      "       205, 206, 207, 208, 209, 210, 211, 212, 213, 214],\n",
      "      dtype='object')\n"
     ]
    }
   ],
   "source": [
    "arduino_code = open(\"randomForest.h\", mode=\"w+\")\n",
    "arduino_code.write(port(clf))\n",
    "arduino_code.close()\n",
    "print(\"Import selected features to Arduino code:\\n\", X.columns[selected_feature_indices])"
   ]
  }
 ],
 "metadata": {
  "kernelspec": {
   "display_name": "Python 3",
   "language": "python",
   "name": "python3"
  },
  "language_info": {
   "codemirror_mode": {
    "name": "ipython",
    "version": 3
   },
   "file_extension": ".py",
   "mimetype": "text/x-python",
   "name": "python",
   "nbconvert_exporter": "python",
   "pygments_lexer": "ipython3",
   "version": "3.11.9"
  }
 },
 "nbformat": 4,
 "nbformat_minor": 2
}
