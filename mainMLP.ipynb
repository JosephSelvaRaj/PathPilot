{
 "cells": [
  {
   "cell_type": "markdown",
   "metadata": {},
   "source": [
    "# PathPilot ML training\n",
    "##### Author: [Joseph Selva Raj]"
   ]
  },
  {
   "cell_type": "code",
   "execution_count": 1,
   "metadata": {},
   "outputs": [],
   "source": [
    "import numpy as np\n",
    "import pandas as pd\n",
    "from sklearn.model_selection import train_test_split\n",
    "from sklearn.preprocessing import LabelEncoder\n",
    "from sklearn.neural_network import MLPClassifier\n",
    "from sklearn.metrics import accuracy_score, classification_report\n",
    "from micromlgen import port"
   ]
  },
  {
   "cell_type": "markdown",
   "metadata": {},
   "source": [
    "### Loading the data\n",
    "\n",
    "Load the LIDAR measurement data from txt file"
   ]
  },
  {
   "cell_type": "code",
   "execution_count": 2,
   "metadata": {},
   "outputs": [
    {
     "name": "stdout",
     "output_type": "stream",
     "text": [
      "   0    1    2    3    4    5    6    7    8    9    ...  231  232  233  234  \\\n",
      "0  221  224  225  227  229  230  232  234  236  239  ...  211  212  212  212   \n",
      "1  218  221  222  222  225  227  229  231  233  235  ...  211  211  216  217   \n",
      "2  212  218  215  215  217  218  220  222  224  224  ...  202  202  202  203   \n",
      "3  193  196  197  199  200  202  204  205  207  209  ...  183  183  184  184   \n",
      "4  185  187  188  190  191  193  195  197  197  201  ...  202  195  192  189   \n",
      "\n",
      "   235  236  237  238  239  240  \n",
      "0  212  213  214  214  215    F  \n",
      "1  210  211  211  212  213    F  \n",
      "2  203  204  204  204  205    F  \n",
      "3  185  185  186  187  187    F  \n",
      "4  187  184  182  179  177    R  \n",
      "\n",
      "[5 rows x 241 columns]\n"
     ]
    }
   ],
   "source": [
    "data = pd.read_csv('C:\\\\Users\\\\josep\\\\Documents\\\\Github Repo\\\\PathPilot\\\\PathPilot\\\\MASTERDATA240CIRCLE.TXT', header=None)\n",
    "print(data.head())"
   ]
  },
  {
   "cell_type": "markdown",
   "metadata": {},
   "source": [
    "### Data cleaning\n",
    "\n",
    "Rename the last column as \"label\" and clean the data by eliminating all data strings that are not annotated with \"Forward\" command labels.\n",
    "\n",
    "The processed data should only contain the LIDAR measurements and the corresponding command labels:\n",
    "- F - forward\n",
    "- R - forward right\n",
    "- L - forward left"
   ]
  },
  {
   "cell_type": "code",
   "execution_count": 3,
   "metadata": {},
   "outputs": [
    {
     "name": "stdout",
     "output_type": "stream",
     "text": [
      "Label counts before cleaning the data: \n",
      " Label\n",
      "F    17384\n",
      "R     7946\n",
      "L     4937\n",
      "s      425\n",
      "D      212\n",
      "r       86\n",
      "l       71\n",
      "b       20\n",
      "H        2\n",
      "Name: count, dtype: int64\n",
      "Label counts after cleaning the data: \n",
      " Label\n",
      "F    17384\n",
      "R     7946\n",
      "L     4937\n",
      "Name: count, dtype: int64\n"
     ]
    }
   ],
   "source": [
    "data.rename(columns={data.columns[-1]: 'Label'}, inplace=True)\n",
    "print(f\"Label counts before cleaning the data: \\n {data['Label'].value_counts()}\")\n",
    "data = data[(data['Label'] != 'd') & (data['Label'] != 'b') & (data['Label'] != 's') & (data['Label'] != 'l')& (data['Label'] != 'H')& (data['Label'] != 'D')& (data['Label'] != 'r')& (data['Label'] != 'm')& (data['Label'] != 'n')]\n",
    "data.reset_index(drop=True, inplace=True)\n",
    "print(f\"Label counts after cleaning the data: \\n {data['Label'].value_counts()}\")"
   ]
  },
  {
   "cell_type": "markdown",
   "metadata": {},
   "source": [
    "### Spilt data into train and test sets\n",
    "Separate X and Y as the input and output data and divide them into train and test sets with train_test_split. \n",
    "Label encoder is used to convert the labels from character to number format to interface with the classifier."
   ]
  },
  {
   "cell_type": "code",
   "execution_count": 4,
   "metadata": {},
   "outputs": [
    {
     "name": "stdout",
     "output_type": "stream",
     "text": [
      "Label encoding mapping for motor control in Arduino code: {'F': 0, 'L': 1, 'R': 2}\n"
     ]
    }
   ],
   "source": [
    "X = data.iloc[:, :-1]\n",
    "y = data.iloc[:, -1]\n",
    "\n",
    "label_encoder = LabelEncoder()\n",
    "y = label_encoder.fit_transform(y)\n",
    "label_mapping = dict(zip(label_encoder.classes_, label_encoder.transform(label_encoder.classes_)))\n",
    "print(f\"Label encoding mapping for motor control in Arduino code: {label_mapping}\")\n",
    "\n",
    "X_train, X_test, y_train, y_test = train_test_split(X, y, test_size=0.2, random_state=42)"
   ]
  },
  {
   "cell_type": "markdown",
   "metadata": {},
   "source": [
    "### Training the model\n",
    "Training the model is a straightforward process, thanks to all the libraries available in Python. The outcome of the training process depends on the dataset and the preceding steps. Post-training, accuracy will be computed using the test set, and a higher accuracy is desirable."
   ]
  },
  {
   "cell_type": "code",
   "execution_count": 5,
   "metadata": {},
   "outputs": [
    {
     "name": "stdout",
     "output_type": "stream",
     "text": [
      "Accuracy: 69.26%\n",
      "Classification Report:\n",
      "               precision    recall  f1-score   support\n",
      "\n",
      "           F       0.69      0.82      0.75      3425\n",
      "           L       0.66      0.47      0.55      1024\n",
      "           R       0.70      0.57      0.63      1605\n",
      "\n",
      "    accuracy                           0.69      6054\n",
      "   macro avg       0.69      0.62      0.64      6054\n",
      "weighted avg       0.69      0.69      0.68      6054\n",
      "\n"
     ]
    },
    {
     "name": "stderr",
     "output_type": "stream",
     "text": [
      "C:\\Users\\josep\\AppData\\Local\\Packages\\PythonSoftwareFoundation.Python.3.11_qbz5n2kfra8p0\\LocalCache\\local-packages\\Python311\\site-packages\\sklearn\\neural_network\\_multilayer_perceptron.py:546: ConvergenceWarning: lbfgs failed to converge (status=1):\n",
      "STOP: TOTAL NO. of ITERATIONS REACHED LIMIT.\n",
      "\n",
      "Increase the number of iterations (max_iter) or scale the data as shown in:\n",
      "    https://scikit-learn.org/stable/modules/preprocessing.html\n",
      "  self.n_iter_ = _check_optimize_result(\"lbfgs\", opt_res, self.max_iter)\n"
     ]
    }
   ],
   "source": [
    "clf = MLPClassifier(solver='lbfgs', alpha=1e-5, hidden_layer_sizes=(10, 3), random_state=1)\n",
    "clf.fit(X_train, y_train)\n",
    "\n",
    "y_pred = clf.predict(X_test)\n",
    "\n",
    "accuracy = accuracy_score(y_test, y_pred)\n",
    "print(f'Accuracy: {accuracy * 100:.2f}%')\n",
    "\n",
    "class_names = label_encoder.classes_\n",
    "report = classification_report(y_test, y_pred, target_names=class_names, zero_division=0)\n",
    "print('Classification Report:\\n', report)"
   ]
  }
 ],
 "metadata": {
  "kernelspec": {
   "display_name": "Python 3",
   "language": "python",
   "name": "python3"
  },
  "language_info": {
   "codemirror_mode": {
    "name": "ipython",
    "version": 3
   },
   "file_extension": ".py",
   "mimetype": "text/x-python",
   "name": "python",
   "nbconvert_exporter": "python",
   "pygments_lexer": "ipython3",
   "version": "3.11.9"
  }
 },
 "nbformat": 4,
 "nbformat_minor": 2
}
